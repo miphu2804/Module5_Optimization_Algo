{
 "cells": [
  {
   "cell_type": "markdown",
   "metadata": {
    "id": "PDZxOtCZt5VU"
   },
   "source": [
    "## Problem"
   ]
  },
  {
   "cell_type": "markdown",
   "metadata": {
    "id": "Z7esFCIXuNXS"
   },
   "source": [
    "$$f(w_1, w_2) = 0.1w_1^2 + 2w_2^2 \\;\\;\\;\\;\\;\\;\\;(1)$$"
   ]
  },
  {
   "cell_type": "code",
   "execution_count": 5,
   "metadata": {
    "id": "_IAVg99F9N0y"
   },
   "outputs": [],
   "source": [
    "import numpy as np"
   ]
  },
  {
   "cell_type": "markdown",
   "metadata": {
    "id": "HXAY82X82mDx"
   },
   "source": [
    "### RMSprop"
   ]
  },
  {
   "cell_type": "code",
   "execution_count": 1,
   "metadata": {
    "id": "uai1hzbWuNaK"
   },
   "outputs": [],
   "source": [
    "def df_w(W):\n",
    "    \"\"\"\n",
    "    Thực hiện tính gradient của dw1 và dw2\n",
    "    Arguments:\n",
    "    W -- np.array [w1, w2]\n",
    "    Returns:\n",
    "    dW -- np.array [dw1, dw2], array chứa giá trị đạo hàm theo w1 và w2\n",
    "    \"\"\"\n",
    "    #################### YOUR CODE HERE ####################\n",
    "    w1, w2 = W\n",
    "    dw1 = 0.2 * w1 \n",
    "    dw2 = 4 * w2 \n",
    "    dW = np.array([dw1, dw2])\n",
    "    ########################################################\n",
    "    return dW"
   ]
  },
  {
   "cell_type": "code",
   "execution_count": 2,
   "metadata": {
    "id": "ws1QcU-o3NPi"
   },
   "outputs": [],
   "source": [
    "def RMSProp(W, dW, lr, S, gamma):\n",
    "    \"\"\"\n",
    "    Thực hiện thuật tóan RMSProp để update w1 và w2\n",
    "    Arguments:\n",
    "    W -- np.array: [w1, w2]\n",
    "    dW -- np.array: [dw1, dw2], array chứa giá trị đạo hàm theo w1 và w2\n",
    "    lr -- float: learning rate\n",
    "    S -- np.array: [s1, s2] Exponentially weighted averages bình phương gradients\n",
    "    gamma -- float: hệ số long-range average\n",
    "    Returns:\n",
    "    W -- np.array: [w1, w2] w1 và w2 sau khi đã update\n",
    "    S -- np.array: [s1, s2] Exponentially weighted averages bình phương gradients sau khi đã cập nhật\n",
    "    \"\"\"\n",
    "    epsilon = 1e-6\n",
    "    #################### YOUR CODE HERE ####################\n",
    "\n",
    "    S = gamma * S + (1 - gamma) * (dW ** 2)\n",
    "    W = W - lr * dW / (np.sqrt(S) + epsilon)\n",
    "    ########################################################\n",
    "    return W, S"
   ]
  },
  {
   "cell_type": "code",
   "execution_count": 8,
   "metadata": {
    "id": "QA_czueo4bz2"
   },
   "outputs": [],
   "source": [
    "def train_p1(optimizer, lr, epochs):\n",
    "    \"\"\"\n",
    "    Thực hiện tìm điểm minimum của function (1) dựa vào thuật toán\n",
    "    được truyền vào từ optimizer\n",
    "    Arguments:\n",
    "    optimize : function thực hiện thuật toán optimization cụ thể\n",
    "    lr -- float: learning rate\n",
    "    epochs -- int: số lượng lần (epoch) lặp để tìm điểm minimum\n",
    "    Returns:\n",
    "    results -- list: list các cặp điểm [w1, w2] sau mỗi epoch (mỗi lần cập nhật)\n",
    "    \"\"\"\n",
    "    # initial\n",
    "    W = np.array([-5, -2], dtype=np.float32)\n",
    "    S = np.array([0, 0], dtype=np.float32)\n",
    "    results = [W]\n",
    "    #################### YOUR CODE HERE ####################\n",
    "    # Tạo vòng lặp theo số lần epochs\n",
    "    # tìm gradient dW gồm dw1 và dw2\n",
    "    # dùng thuật toán optimization cập nhật w1, w2, s1, s2\n",
    "    # append cặp [w1, w2] vào list results\n",
    "    for epoch in range(epochs):\n",
    "    # Tính gradient tại W hiện tại\n",
    "        dW = df_w(W)\n",
    "        W, S = optimizer(W, dW, lr, S, gamma=0.9)\n",
    "        # Lưu kết quả vào danh sách\n",
    "        results.append(W.copy())\n",
    "\n",
    "    ########################################################\n",
    "    return results"
   ]
  },
  {
   "cell_type": "code",
   "execution_count": 9,
   "metadata": {
    "id": "eGVlk8pi4kM5"
   },
   "outputs": [
    {
     "data": {
      "text/plain": [
       "[array([-5., -2.], dtype=float32),\n",
       " array([-4.0513197 , -1.05131708]),\n",
       " array([-3.43519553, -0.59152376]),\n",
       " array([-2.95893489, -0.3294397 ]),\n",
       " array([-2.56546089, -0.17756504]),\n",
       " array([-2.22920358, -0.09163272]),\n",
       " array([-1.93626564, -0.04494508]),\n",
       " array([-1.67817504, -0.02081429]),\n",
       " array([-1.44934809, -0.00903562]),\n",
       " array([-1.24588029, -0.00364592]),\n",
       " array([-1.06490135, -0.00135352]),\n",
       " array([-9.04200650e-01, -4.56447225e-04]),\n",
       " array([-7.61994932e-01, -1.37563947e-04]),\n",
       " array([-6.36776983e-01, -3.62604278e-05]),\n",
       " array([-5.27213771e-01, -8.11346375e-06]),\n",
       " array([-4.32077091e-01, -1.47475425e-06]),\n",
       " array([-3.50197152e-01, -2.02787524e-07]),\n",
       " array([-2.80433359e-01, -1.84235524e-08]),\n",
       " array([-2.21658617e-01, -7.67771777e-10]),\n",
       " array([-1.72754375e-01,  7.80432778e-12]),\n",
       " array([-1.32614084e-01, -5.05777072e-13]),\n",
       " array([-1.00152823e-01,  6.19098174e-14]),\n",
       " array([-7.43209130e-02, -1.13368674e-14]),\n",
       " array([-5.41193712e-02,  2.80153177e-15]),\n",
       " array([-3.86152607e-02, -8.81296300e-16]),\n",
       " array([-2.69552510e-02,  3.39903035e-16]),\n",
       " array([-1.83761024e-02, -1.56573095e-16]),\n",
       " array([-1.22112361e-02,  8.44946934e-17]),\n",
       " array([-7.89302368e-03, -5.26345869e-17]),\n",
       " array([-4.95087715e-03,  3.74085662e-17]),\n",
       " array([-3.00560338e-03, -3.00487798e-17])]"
      ]
     },
     "execution_count": 9,
     "metadata": {},
     "output_type": "execute_result"
    }
   ],
   "source": [
    "train_p1(RMSProp, lr=0.3, epochs=30)"
   ]
  },
  {
   "cell_type": "code",
   "execution_count": null,
   "metadata": {},
   "outputs": [],
   "source": []
  }
 ],
 "metadata": {
  "colab": {
   "provenance": [],
   "toc_visible": true
  },
  "kernelspec": {
   "display_name": "PandasPlayground",
   "language": "python",
   "name": "pandas_playground"
  },
  "language_info": {
   "codemirror_mode": {
    "name": "ipython",
    "version": 3
   },
   "file_extension": ".py",
   "mimetype": "text/x-python",
   "name": "python",
   "nbconvert_exporter": "python",
   "pygments_lexer": "ipython3",
   "version": "3.12.7"
  }
 },
 "nbformat": 4,
 "nbformat_minor": 0
}
